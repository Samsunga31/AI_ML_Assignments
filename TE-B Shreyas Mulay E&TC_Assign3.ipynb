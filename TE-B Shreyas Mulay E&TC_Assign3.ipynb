{
 "cells": [
  {
   "cell_type": "code",
   "execution_count": null,
   "id": "d533b720",
   "metadata": {},
   "outputs": [],
   "source": [
    "# Department : ETC\n",
    "# Name : Shreyas Y. Mulay\n",
    "# Roll No : 22280\n",
    "# Div : TE-B"
   ]
  },
  {
   "cell_type": "code",
   "execution_count": 8,
   "id": "f91b6804",
   "metadata": {},
   "outputs": [],
   "source": [
    "import numpy as np\n",
    "import pandas as pd\n",
    "import matplotlib.pyplot as plt\n",
    "from sklearn.linear_model import LinearRegression"
   ]
  },
  {
   "cell_type": "code",
   "execution_count": 10,
   "id": "864553fe",
   "metadata": {},
   "outputs": [],
   "source": [
    "df = pd.read_csv(\"E:\\Shreyas\\Modern college\\SEM-5\\Submission\\8836201-6f9306ad21398ea43cba4f7d537619d0e07d5ae3/birthwt.csv\")"
   ]
  },
  {
   "cell_type": "code",
   "execution_count": 11,
   "id": "a59f95d6",
   "metadata": {},
   "outputs": [],
   "source": [
    "def calc_covariance(dataset1,dataset2):\n",
    "    mean1 = np.mean(dataset1)\n",
    "    mean2 = np.mean(dataset2)\n",
    "    return np.sum(np.multiply(dataset1-mean1,dataset2-mean2))/len(dataset1)"
   ]
  },
  {
   "cell_type": "code",
   "execution_count": 12,
   "id": "971682c5",
   "metadata": {},
   "outputs": [],
   "source": [
    "def correlation(dataset1,dataset2):\n",
    "    cov =calc_covariance(dataset1,dataset2)\n",
    "    sd1 = np.std(dataset1)\n",
    "    sd2 = np.std(dataset2)\n",
    "    \n",
    "    return cov/(sd1*sd2)"
   ]
  },
  {
   "cell_type": "code",
   "execution_count": null,
   "id": "97990fb2",
   "metadata": {},
   "outputs": [],
   "source": [
    "# 1.Test the association of mother’s (bwt) age and birth weight using the correlation test and linear regeression."
   ]
  },
  {
   "cell_type": "code",
   "execution_count": 13,
   "id": "bf867b2a",
   "metadata": {},
   "outputs": [],
   "source": [
    "#Using correlation coefficients test :\n",
    "# Age of mother\n",
    "age = df[\"age\"]\n",
    "age = age.to_numpy()\n",
    "\n",
    "# Birth weight in grams\n",
    "birthwt = df[\"bwt\"]\n",
    "birthwt = birthwt.to_numpy()"
   ]
  },
  {
   "cell_type": "code",
   "execution_count": 14,
   "id": "0fadd0fa",
   "metadata": {},
   "outputs": [
    {
     "data": {
      "text/plain": [
       "0.0903178136685326"
      ]
     },
     "execution_count": 14,
     "metadata": {},
     "output_type": "execute_result"
    }
   ],
   "source": [
    "correlation(age, birthwt)"
   ]
  },
  {
   "cell_type": "code",
   "execution_count": 15,
   "id": "19e7220e",
   "metadata": {},
   "outputs": [
    {
     "data": {
      "text/plain": [
       "Text(0, 0.5, 'Birth weight(Kg)')"
      ]
     },
     "execution_count": 15,
     "metadata": {},
     "output_type": "execute_result"
    },
    {
     "data": {
      "image/png": "[encoded data removed]",
      "text/plain": [
       "<Figure size 432x288 with 1 Axes>"
      ]
     },
     "metadata": {
      "needs_background": "light"
     },
     "output_type": "display_data"
    }
   ],
   "source": [
    "# Converting birth weight from gram to kg for better scaling\n",
    "plt.scatter(age,birthwt/1000,c =\"green\")\n",
    "plt.xlabel(\"Age\")\n",
    "plt.ylabel(\"Birth weight(Kg)\")"
   ]
  },
  {
   "cell_type": "code",
   "execution_count": 16,
   "id": "c58a2b4d",
   "metadata": {},
   "outputs": [
    {
     "data": {
      "text/plain": [
       "LinearRegression()"
      ]
     },
     "execution_count": 16,
     "metadata": {},
     "output_type": "execute_result"
    }
   ],
   "source": [
    "#Using simple linear regression :\n",
    "lr = LinearRegression()\n",
    "age = age.reshape(-1,1)\n",
    "lr.fit(age,birthwt)"
   ]
  },
  {
   "cell_type": "code",
   "execution_count": 17,
   "id": "b0259777",
   "metadata": {},
   "outputs": [
    {
     "name": "stdout",
     "output_type": "stream",
     "text": [
      "Coefficients : 12.429712027714626\n",
      "intercept : 2655.7444697051715\n"
     ]
    }
   ],
   "source": [
    "y = lr.predict(age)\n",
    "print(\"Coefficients :\",lr.coef_[0])\n",
    "print(\"intercept :\",lr.intercept_)"
   ]
  },
  {
   "cell_type": "code",
   "execution_count": 18,
   "id": "0cd4df1d",
   "metadata": {},
   "outputs": [
    {
     "data": {
      "image/png": "[encoded data removed]",
      "text/plain": [
       "<Figure size 432x288 with 1 Axes>"
      ]
     },
     "metadata": {
      "needs_background": "light"
     },
     "output_type": "display_data"
    }
   ],
   "source": [
    "plt.plot(age,y,color= \"red\")\n",
    "plt.scatter(age,birthwt,c= \"green\")\n",
    "plt.xlabel(\"Age\")\n",
    "plt.ylabel(\"Birth weight(g)\")\n",
    "plt.show()"
   ]
  },
  {
   "cell_type": "code",
   "execution_count": null,
   "id": "a74890a8",
   "metadata": {},
   "outputs": [],
   "source": [
    "# 2.Test the association of mother’s weight (lwt) and birth weight using the correlation testand linear regeression."
   ]
  },
  {
   "cell_type": "code",
   "execution_count": 19,
   "id": "bdd7e885",
   "metadata": {},
   "outputs": [],
   "source": [
    "#Using correlation coefficients test :\n",
    "# Mother's weight during last menstrual period.(in pounds)\n",
    "motherswt = df[\"lwt\"]\n",
    "motherswt =motherswt.to_numpy()\n",
    "\n",
    "# converting in grams to pounds\n",
    "birthwt = birthwt/454"
   ]
  },
  {
   "cell_type": "code",
   "execution_count": 20,
   "id": "e753adb7",
   "metadata": {},
   "outputs": [
    {
     "data": {
      "text/plain": [
       "0.18573328444909923"
      ]
     },
     "execution_count": 20,
     "metadata": {},
     "output_type": "execute_result"
    }
   ],
   "source": [
    "correlation(motherswt,birthwt)"
   ]
  },
  {
   "cell_type": "code",
   "execution_count": 21,
   "id": "098e0bbb",
   "metadata": {},
   "outputs": [
    {
     "data": {
      "text/plain": [
       "<matplotlib.collections.PathCollection at 0x22a5ac435b0>"
      ]
     },
     "execution_count": 21,
     "metadata": {},
     "output_type": "execute_result"
    },
    {
     "data": {
      "image/png": "[encoded data removed]",
      "text/plain": [
       "<Figure size 432x288 with 1 Axes>"
      ]
     },
     "metadata": {
      "needs_background": "light"
     },
     "output_type": "display_data"
    }
   ],
   "source": [
    "plt.xlabel(\"Mother's weight\")\n",
    "plt.ylabel(\"Birth weight (Kg)\")\n",
    "plt.scatter(motherswt,birthwt,c = \"darkblue\")"
   ]
  },
  {
   "cell_type": "code",
   "execution_count": 22,
   "id": "15e968c7",
   "metadata": {},
   "outputs": [
    {
     "data": {
      "text/plain": [
       "LinearRegression()"
      ]
     },
     "execution_count": 22,
     "metadata": {},
     "output_type": "execute_result"
    }
   ],
   "source": [
    "#Using simple linear regression :\n",
    "motherswt =motherswt.reshape(-1,1)\n",
    "lr.fit(motherswt,birthwt)"
   ]
  },
  {
   "cell_type": "code",
   "execution_count": 23,
   "id": "9c05a485",
   "metadata": {},
   "outputs": [
    {
     "name": "stdout",
     "output_type": "stream",
     "text": [
      "Coefficients : 0.009755743626323142\n",
      "intercept : 5.21943506139647\n"
     ]
    }
   ],
   "source": [
    "z = lr.predict(motherswt)\n",
    "print(\"Coefficients :\",lr.coef_[0])\n",
    "print(\"intercept :\",lr.intercept_)"
   ]
  },
  {
   "cell_type": "code",
   "execution_count": 24,
   "id": "c097cfc3",
   "metadata": {},
   "outputs": [
    {
     "data": {
      "image/png": "[encoded data removed]",
      "text/plain": [
       "<Figure size 432x288 with 1 Axes>"
      ]
     },
     "metadata": {
      "needs_background": "light"
     },
     "output_type": "display_data"
    }
   ],
   "source": [
    "plt.plot(motherswt,z,c=\"orange\")\n",
    "plt.scatter(motherswt,birthwt,c =\"darkblue\")\n",
    "plt.xlabel(\"Mother's weight\")\n",
    "plt.ylabel(\"Birth weight\")\n",
    "plt.show()"
   ]
  },
  {
   "cell_type": "code",
   "execution_count": null,
   "id": "aaf7b0d3",
   "metadata": {},
   "outputs": [],
   "source": []
  }
 ],
 "metadata": {
  "kernelspec": {
   "display_name": "Python 3",
   "language": "python",
   "name": "python3"
  },
  "language_info": {
   "codemirror_mode": {
    "name": "ipython",
    "version": 3
   },
   "file_extension": ".py",
   "mimetype": "text/x-python",
   "name": "python",
   "nbconvert_exporter": "python",
   "pygments_lexer": "ipython3",
   "version": "3.8.8"
  }
 },
 "nbformat": 4,
 "nbformat_minor": 5
}
